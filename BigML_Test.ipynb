{
 "cells": [
  {
   "cell_type": "code",
   "execution_count": 4,
   "id": "0cc62784",
   "metadata": {},
   "outputs": [
    {
     "name": "stdout",
     "output_type": "stream",
     "text": [
      "Authentication variables set!\n"
     ]
    }
   ],
   "source": [
    "BIGML_USERNAME = 'EDEMCHICK'\n",
    "BIGML_API_KEY = 'b1437904dc37847e8f7c10ec46959c56c311a672'\n",
    "BIGML_AUTH = 'username=' + BIGML_USERNAME + ';api_key=' + BIGML_API_KEY\n",
    "print ('Authentication variables set!')"
   ]
  },
  {
   "cell_type": "code",
   "execution_count": 10,
   "id": "845aacaf",
   "metadata": {},
   "outputs": [
    {
     "name": "stderr",
     "output_type": "stream",
     "text": [
      "WARNING: pip is being invoked by an old script wrapper. This will fail in a future version of pip.\n",
      "Please see https://github.com/pypa/pip/issues/5599 for advice on fixing the underlying issue.\n",
      "To avoid this problem you can invoke Python with '-m pip' instead of running pip directly.\n"
     ]
    },
    {
     "name": "stdout",
     "output_type": "stream",
     "text": [
      "Collecting bigml\n",
      "  Using cached bigml-6.2.1-py3-none-any.whl\n",
      "Requirement already satisfied: numpy in c:\\users\\edemc\\miniconda3\\lib\\site-packages (from bigml) (1.21.2)\n",
      "Collecting bigml-chronos>=0.4.3\n",
      "  Using cached bigml_chronos-0.4.3-py3-none-any.whl\n",
      "Requirement already satisfied: requests in c:\\users\\edemc\\miniconda3\\lib\\site-packages (from bigml) (2.25.1)\n",
      "Collecting requests-toolbelt\n",
      "  Using cached requests_toolbelt-0.9.1-py2.py3-none-any.whl (54 kB)\n",
      "Collecting unidecode\n",
      "  Using cached Unidecode-1.2.0-py2.py3-none-any.whl (241 kB)\n",
      "Collecting msgpack\n",
      "  Using cached msgpack-1.0.2-cp39-cp39-win_amd64.whl (68 kB)\n",
      "Requirement already satisfied: scipy in c:\\users\\edemc\\miniconda3\\lib\\site-packages (from bigml) (1.7.1)\n",
      "Requirement already satisfied: pytz in c:\\users\\edemc\\miniconda3\\lib\\site-packages (from bigml-chronos>=0.4.3->bigml) (2021.1)\n",
      "Collecting isoweek\n",
      "  Using cached isoweek-1.3.3-py2.py3-none-any.whl (7.1 kB)\n",
      "Requirement already satisfied: certifi>=2017.4.17 in c:\\users\\edemc\\miniconda3\\lib\\site-packages (from requests->bigml) (2021.5.30)\n",
      "Requirement already satisfied: chardet<5,>=3.0.2 in c:\\users\\edemc\\miniconda3\\lib\\site-packages (from requests->bigml) (4.0.0)\n",
      "Requirement already satisfied: idna<3,>=2.5 in c:\\users\\edemc\\miniconda3\\lib\\site-packages (from requests->bigml) (2.10)\n",
      "Requirement already satisfied: urllib3<1.27,>=1.21.1 in c:\\users\\edemc\\miniconda3\\lib\\site-packages (from requests->bigml) (1.26.6)\n",
      "Installing collected packages: isoweek, unidecode, requests-toolbelt, msgpack, bigml-chronos, bigml\n"
     ]
    },
    {
     "name": "stderr",
     "output_type": "stream",
     "text": [
      "ERROR: Could not install packages due to an OSError: [WinError 5] Access is denied: 'C:\\\\Users\\\\edemc\\\\miniconda3\\\\Lib\\\\site-packages\\\\msgpack\\\\_cmsgpack.cp39-win_amd64.pyd'\n",
      "Consider using the `--user` option or check the permissions.\n",
      "\n"
     ]
    },
    {
     "ename": "TypeError",
     "evalue": "__init__() got an unexpected keyword argument 'dev_mode'",
     "output_type": "error",
     "traceback": [
      "\u001b[1;31m---------------------------------------------------------------------------\u001b[0m",
      "\u001b[1;31mTypeError\u001b[0m                                 Traceback (most recent call last)",
      "\u001b[1;32m<ipython-input-10-37bc2d86238b>\u001b[0m in \u001b[0;36m<module>\u001b[1;34m\u001b[0m\n\u001b[0;32m      9\u001b[0m \u001b[1;31m# otherwise: api=BigML('your username here','your API key here',dev_mode=True)\u001b[0m\u001b[1;33m\u001b[0m\u001b[1;33m\u001b[0m\u001b[1;33m\u001b[0m\u001b[0m\n\u001b[0;32m     10\u001b[0m \u001b[1;33m\u001b[0m\u001b[0m\n\u001b[1;32m---> 11\u001b[1;33m \u001b[0mapi\u001b[0m\u001b[1;33m=\u001b[0m\u001b[0mBigML\u001b[0m\u001b[1;33m(\u001b[0m\u001b[0mdev_mode\u001b[0m\u001b[1;33m=\u001b[0m\u001b[1;32mTrue\u001b[0m\u001b[1;33m)\u001b[0m \u001b[1;31m# use BigML in development mode for unlimited usage\u001b[0m\u001b[1;33m\u001b[0m\u001b[1;33m\u001b[0m\u001b[0m\n\u001b[0m\u001b[0;32m     12\u001b[0m \u001b[0mprint\u001b[0m \u001b[1;33m(\u001b[0m\u001b[1;34m'Wrapper ready to use!'\u001b[0m\u001b[1;33m)\u001b[0m\u001b[1;33m\u001b[0m\u001b[1;33m\u001b[0m\u001b[0m\n",
      "\u001b[1;31mTypeError\u001b[0m: __init__() got an unexpected keyword argument 'dev_mode'"
     ]
    }
   ],
   "source": [
    "# Uncomment lines below in case this block doesn't work\n",
    "import pip\n",
    "pip.main(['install', 'bigml'])\n",
    "\n",
    "from bigml.api import BigML\n",
    "\n",
    "# Assuming you installed the BigML Python wrappers (with the 'pip install bigml' command, see above)\n",
    "# Assuming BIGML_USERNAME and BIGML_API_KEY were defined as shell environment variables\n",
    "# otherwise: api=BigML('your username here','your API key here',dev_mode=True)\n",
    "\n",
    "api=BigML(dev_mode=True) # use BigML in development mode for unlimited usage\n",
    "print ('Wrapper ready to use!')"
   ]
  }
 ],
 "metadata": {
  "kernelspec": {
   "display_name": "Python 3",
   "language": "python",
   "name": "python3"
  },
  "language_info": {
   "codemirror_mode": {
    "name": "ipython",
    "version": 3
   },
   "file_extension": ".py",
   "mimetype": "text/x-python",
   "name": "python",
   "nbconvert_exporter": "python",
   "pygments_lexer": "ipython3",
   "version": "3.9.5"
  }
 },
 "nbformat": 4,
 "nbformat_minor": 5
}
